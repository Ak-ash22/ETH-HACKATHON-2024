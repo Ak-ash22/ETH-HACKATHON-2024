{
 "cells": [
  {
   "cell_type": "markdown",
   "metadata": {},
   "source": [
    "# Define the problem"
   ]
  },
  {
   "cell_type": "markdown",
   "metadata": {},
   "source": [
    "**Process Management Problem**\n",
    "\n",
    "In the process management problem, we are given a set of tasks represented by processes $p$. Each process $p_i$ has an associated value $v_i$​ (indicating its importance) and a duration $d_i$​ (representing the time required to execute the task). Additionally, there exists a maximum allowed duration $d_{max}$​ within which we must execute these tasks.\n",
    "\n",
    "\n",
    "Our objective is to select a subset $S$ of processes from $p$ such that their total duration does not exceed $d_{max}$​, while maximizing the overall value of the executed processes. In other words, we aim to find the set S that maximizes the expression:\n",
    "\n",
    "$$\\sum_{i\\in S} v_i$$\n",
    "\n",
    "subject to the constraint:\n",
    "\n",
    "$$\\sum_{i\\in S} d_i \\leq d_{max}$$"
   ]
  },
  {
   "cell_type": "markdown",
   "metadata": {},
   "source": [
    "## Define problem instance"
   ]
  },
  {
   "cell_type": "code",
   "execution_count": 1,
   "metadata": {},
   "outputs": [
    {
     "name": "stdout",
     "output_type": "stream",
     "text": [
      "--------------------\n",
      "Instance Details:\n",
      "--------------------\n",
      "Duration                 : [3, 3, 6, 6, 7, 7]\n",
      "Values                   : [7, 15, 8, 15, 7, 8]\n",
      "Total duration           : 32\n",
      "Maximum allowed duration : 22\n"
     ]
    }
   ],
   "source": [
    "import random \n",
    "\n",
    "\n",
    "random.seed(13)\n",
    "\n",
    "# Define the number of items\n",
    "n_items = 6\n",
    "\n",
    "# Define ranges\n",
    "duration_range = [1, 7]\n",
    "values_range = [5, 15]\n",
    "max_duration_percentage = 0.7\n",
    "\n",
    "# Fill the weights and values \n",
    "duration = [random.randint(duration_range[0], duration_range[1]) for _ in range(n_items)]\n",
    "values  = [random.randint(values_range[0], values_range[1]) for _ in range(n_items)]\n",
    "\n",
    "# Compute the maximum allowed weight\n",
    "max_duration = int(max_duration_percentage * sum(duration))\n",
    "\n",
    "\n",
    "# Print the instance\n",
    "print(\"-\" * 20)\n",
    "print(\"Instance Details:\")\n",
    "print(\"-\" * 20)\n",
    "print(f\"Duration                 : {duration}\")\n",
    "print(f\"Values                   : {values}\")\n",
    "print(f\"Total duration           : {sum(duration)}\")\n",
    "print(f\"Maximum allowed duration : {max_duration}\")"
   ]
  },
  {
   "cell_type": "markdown",
   "metadata": {},
   "source": [
    "Reference Solution (Selected Processes are **Bolded**):\n",
    "\n",
    "Duration: [3, **3**, **6**, **6**, 7, **7**]\n",
    "\n",
    "Values: [7, **15**, **8**, **15**, 7, **8**]\n",
    "\n",
    "Total selected Duration: 22\n",
    "\n",
    "Total selected values: 46"
   ]
  },
  {
   "cell_type": "markdown",
   "metadata": {},
   "source": [
    "# Hackathon Tasks \n"
   ]
  },
  {
   "cell_type": "markdown",
   "metadata": {},
   "source": [
    "## Problem 1"
   ]
  },
  {
   "cell_type": "markdown",
   "metadata": {},
   "source": [
    "### Build the cost hamiltonians for the Process Management problem:"
   ]
  },
  {
   "cell_type": "code",
   "execution_count": null,
   "metadata": {},
   "outputs": [],
   "source": [
    "from qibo.symbols import Z, X\n",
    "from qibo.hamiltonians import SymbolicHamiltonian\n",
    "\n",
    "def build_cost_hamiltonian(values: list[int], duration: list[int], max_duration: int) -> SymbolicHamiltonian:\n",
    "    \"\"\"This function should be filled to build the problem cost hamiltonian.\n",
    "\n",
    "    Args:\n",
    "        values (list[int]): the list of values.\n",
    "        duration (list[int]): the list of durations. \n",
    "        max_duration (int): the maximum value of the allowed duration.\n",
    "        \n",
    "    \"\"\"\n",
    "    \n",
    "    cost_hamiltonian = ... # TODO: define the cost hamiltonian here\n",
    "    \n",
    "    return SymbolicHamiltonian(cost_hamiltonian)"
   ]
  },
  {
   "cell_type": "markdown",
   "metadata": {},
   "source": [
    "### Compute the number fo qubits required to execute the cost hamiltonian"
   ]
  },
  {
   "cell_type": "code",
   "execution_count": null,
   "metadata": {},
   "outputs": [],
   "source": [
    "# define the number of qubits:\n",
    "\n",
    "nqubits=... "
   ]
  },
  {
   "cell_type": "markdown",
   "metadata": {},
   "source": [
    "### Diagonalize the cost hamiltonian and examen its eigenvalues and eigenvectors. \n",
    "- Show that the ground state eigenvector does actually correspond to the ground state energy of the problem. (Note: the ground state could be degenerate)"
   ]
  },
  {
   "cell_type": "code",
   "execution_count": null,
   "metadata": {},
   "outputs": [],
   "source": [
    "import numpy as np\n",
    "from qibo import set_backend\n",
    "\n",
    "# set the backend used for the calculation \n",
    "set_backend(\"numpy\", platform=None)\n",
    "\n",
    "\n",
    "# create the cost Hamiltonian for the given graph\n",
    "cost_hamiltonian = build_cost_hamiltonian(values=values, duration=duration, max_duration=max_duration)\n",
    "\n",
    "ham_matrix = cost_hamiltonian.matrix\n",
    "\n",
    "eig_val, eig_vec = np.linalg.eig(ham_matrix)\n",
    "eig_vec = [\"{0:0{bits}b}\".format(i.argmax(), bits=nqubits) for i in eig_vec]\n",
    "\n",
    "vec = zip(eig_val, eig_vec)\n",
    "diagonalized_solution = sorted(vec, key=lambda x: x[0])\n",
    "\n",
    "print()\n",
    "print(diagonalized_solution)"
   ]
  },
  {
   "cell_type": "markdown",
   "metadata": {},
   "source": [
    "## Problem 2"
   ]
  },
  {
   "cell_type": "markdown",
   "metadata": {},
   "source": [
    "### Given that we only have **6 qubits** to solve this problem. Reduce the hamiltonian to use **only 6 qubits**."
   ]
  },
  {
   "cell_type": "code",
   "execution_count": 36,
   "metadata": {},
   "outputs": [],
   "source": [
    "nqubits = 6"
   ]
  },
  {
   "cell_type": "markdown",
   "metadata": {},
   "source": [
    "### Solve this hamiltonian using the QAOA algorithm. "
   ]
  },
  {
   "cell_type": "markdown",
   "metadata": {},
   "source": [
    "        step 1. Define the Mixing hamiltonian."
   ]
  },
  {
   "cell_type": "code",
   "execution_count": null,
   "metadata": {},
   "outputs": [],
   "source": [
    "def build_mixer_hamiltonian(nqubits: int) -> SymbolicHamiltonian:\n",
    "    '''\n",
    "    build the mixer hamiltonian for the given graph.\n",
    "\n",
    "    args:\n",
    "        graph: graph\n",
    "            A network graph\n",
    "\n",
    "    returns:\n",
    "        The mixer hamiltonian of the given graph\n",
    "\n",
    "    '''\n",
    "    mixing_hamiltonian = ... # TODO: define the Mixing Hamiltonian \n",
    "    \n",
    "    return SymbolicHamiltonian(mixing_hamiltonian)"
   ]
  },
  {
   "cell_type": "markdown",
   "metadata": {},
   "source": [
    "        Step 2. Run the QAOA algorithm."
   ]
  },
  {
   "cell_type": "code",
   "execution_count": null,
   "metadata": {},
   "outputs": [],
   "source": [
    "from qibo import models\n",
    "\n",
    "hamiltonian = build_cost_hamiltonian(values=values, duration=duration, max_duration=max_duration)\n",
    "mixer_hamiltonian = build_mixer_hamiltonian(nqubits)\n",
    "\n",
    "# create QAOA model given the Hamiltonians\n",
    "qaoa = models.QAOA(hamiltonian=hamiltonian, mixer=mixer_hamiltonian)\n",
    "\n",
    "# optimize using random initial variational parameters with four layers \n",
    "n_layers = 5\n",
    "# initial_parameters = 0.01 * np.random.random(n_layers * 2)\n",
    "initial_parameters =  0.01 *  (2 * np.random.random(n_layers * 2) - 1) * np.pi\n",
    "print(initial_parameters)\n",
    "\n",
    "# run the QAOA optimization with the initial parameters and the hamiltonians defined \n",
    "\n",
    "# Define random initial variational parameters with four layers \n",
    "n_layers = 4\n",
    "initial_parameters = 0.01 * np.random.random(n_layers * 2)\n",
    "\n",
    "\n",
    "\"\"\"\n",
    "supported optimization Method: \n",
    "- Nelder-Mead \n",
    "- parallel_L-BFGS-B\n",
    "- Powell\n",
    "- CG\n",
    "- cma\n",
    "- sgd\n",
    "- L-BFGS-B\n",
    "- Newton-CG\n",
    "- COBYLA\n",
    "- BFGS\n",
    "- trust-constr\n",
    "\"\"\"\n",
    "method = \"Powell\"\n",
    "\n",
    "\n",
    "best_energy, final_parameters, _ = qaoa.minimize(initial_parameters, method=method)\n",
    "\n",
    "print(\"best energy: \", best_energy)"
   ]
  },
  {
   "cell_type": "markdown",
   "metadata": {},
   "source": [
    "    Step 3. Display solution and compare it to the ground state you obtained in problem 1"
   ]
  },
  {
   "cell_type": "code",
   "execution_count": null,
   "metadata": {},
   "outputs": [],
   "source": [
    "qaoa.set_parameters(final_parameters)\n",
    "quantum_state = qaoa.execute(None)\n",
    "\n",
    "probabilities = (np.abs(quantum_state) ** 2)\n",
    "probabilities = zip(probabilities, [i for i in range(len(probabilities))])\n",
    "probabilities = sorted(probabilities, key=lambda x: x[0], reverse=True)\n",
    "probabilities = [(\"{:.2f} %\".format(round(p*100, 4)), \"{0:0{bits}b}\".format(s, bits=nqubits)) for p, s in probabilities]\n",
    "print(probabilities)\n",
    "qaoa_solution = probabilities[0][1]\n",
    "print(\"-\"*10)\n",
    "\n",
    "print(\"The best solution is:\", qaoa_solution )"
   ]
  },
  {
   "cell_type": "markdown",
   "metadata": {},
   "source": [
    "### Solve this hamiltonian using Quantum Adiabatic Evolution"
   ]
  },
  {
   "cell_type": "markdown",
   "metadata": {},
   "source": [
    "        Setp 1. Define initial hamiltonian"
   ]
  },
  {
   "cell_type": "code",
   "execution_count": null,
   "metadata": {},
   "outputs": [],
   "source": [
    "def build_initial_hamiltonian(nqubits: int) -> SymbolicHamiltonian:\n",
    "    '''\n",
    "    build the mixer hamiltonian for the given graph.\n",
    "\n",
    "    args:\n",
    "        graph: graph\n",
    "            A network graph\n",
    "\n",
    "    returns:\n",
    "        The mixer hamiltonian of the given graph\n",
    "\n",
    "    '''\n",
    "    mixing_hamiltonian = ... # TODO: define the Mixing Hamiltonian \n",
    "    \n",
    "    return SymbolicHamiltonian(mixing_hamiltonian)"
   ]
  },
  {
   "cell_type": "markdown",
   "metadata": {},
   "source": [
    "    Step 2. Run the Adiabatic Evolution"
   ]
  },
  {
   "cell_type": "code",
   "execution_count": null,
   "metadata": {},
   "outputs": [],
   "source": [
    "import numpy as np\n",
    "from qibo.models.evolution import AdiabaticEvolution\n",
    "from qibo.hamiltonians.hamiltonians import Hamiltonian\n",
    "\n",
    "\n",
    "# build initial (H0) and target (H1) hamiltonians\n",
    "H0 = build_initial_hamiltonian(nqubits=nqubits)\n",
    "H1 = build_cost_hamiltonian(values=values, duration=duration, max_duration=max_duration)\n",
    "\n",
    "# calculate the dense hamiltonian from the symbolic hamiltonian\n",
    "H1_dense = Hamiltonian(nqubits, H1.calculate_dense().matrix)\n",
    "H0_dense = Hamiltonian(nqubits, H0.calculate_dense().matrix)\n",
    "\n",
    "# Define the time steps\n",
    "dt = 0.1\n",
    "\n",
    "# Define the final evolution time\n",
    "T = 20\n",
    "\n",
    "# define the schedule. This is a function of time that defines the scheduling of the adiabatic evolution. \n",
    "# Can be either a function of time s(t) or a function with two arguments s(t, p) \n",
    "# where p corresponds to a vector of parameters to be optimized.\n",
    "def s(t): return t\n",
    "\n",
    "# construct the adiabatic model\n",
    "adiabatic_model = AdiabaticEvolution(H0_dense, H1_dense, s, dt)\n",
    "\n",
    "# execute the adiabatic optimization\n",
    "adiabatic_quantum_state = adiabatic_model.execute(final_time=T)"
   ]
  },
  {
   "cell_type": "markdown",
   "metadata": {},
   "source": [
    "    Step 3. Display solution and compare it to the ground state you obtained in problem 1 and using QAOA"
   ]
  },
  {
   "cell_type": "code",
   "execution_count": null,
   "metadata": {},
   "outputs": [],
   "source": [
    "# obtain the state with the highest probability\n",
    "solution_dec  = (np.abs(adiabatic_quantum_state) ** 2).argmax()\n",
    "adiabatic_solution = \"{0:0{bits}b}\".format(solution_dec, bits=nqubits)\n",
    "\n",
    "\n",
    "print(\"the solution is: \", adiabatic_solution)"
   ]
  },
  {
   "cell_type": "markdown",
   "metadata": {},
   "source": [
    "## Problem 3"
   ]
  },
  {
   "cell_type": "markdown",
   "metadata": {},
   "source": [
    "### Given this new dataset generate a hamiltonian that only uses 3 qubits "
   ]
  },
  {
   "cell_type": "markdown",
   "metadata": {},
   "source": [
    "### Design a circuit layout that is suitable for this Hamiltonian"
   ]
  },
  {
   "cell_type": "markdown",
   "metadata": {},
   "source": [
    "### Design an annealing Ising schedule "
   ]
  },
  {
   "cell_type": "markdown",
   "metadata": {},
   "source": [
    "### With the obtain fluxes calculate the energy spectrum of the circuit"
   ]
  },
  {
   "cell_type": "markdown",
   "metadata": {},
   "source": [
    "### Compute the ground state energy, and compare it to the energy obtained by solving the hamiltonian using QAOA and AQE. "
   ]
  }
 ],
 "metadata": {
  "kernelspec": {
   "display_name": "cuco_env2",
   "language": "python",
   "name": "python3"
  },
  "language_info": {
   "codemirror_mode": {
    "name": "ipython",
    "version": 3
   },
   "file_extension": ".py",
   "mimetype": "text/x-python",
   "name": "python",
   "nbconvert_exporter": "python",
   "pygments_lexer": "ipython3",
   "version": "3.11.5"
  }
 },
 "nbformat": 4,
 "nbformat_minor": 2
}
